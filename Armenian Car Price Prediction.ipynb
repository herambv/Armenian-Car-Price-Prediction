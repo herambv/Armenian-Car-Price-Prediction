{
 "cells": [
  {
   "cell_type": "code",
   "execution_count": 15,
   "id": "b745eb63",
   "metadata": {},
   "outputs": [],
   "source": [
    "import pandas as pd\n",
    "from sklearn.preprocessing import LabelEncoder,StandardScaler\n",
    "from sklearn.model_selection import train_test_split\n",
    "from sklearn.linear_model import LinearRegression\n",
    "from sklearn.tree import DecisionTreeRegressor\n",
    "from sklearn.ensemble import RandomForestRegressor\n",
    "from sklearn.svm import SVR\n",
    "from sklearn.metrics import mean_squared_error,mean_absolute_error\n",
    "import seaborn as sns\n",
    "import matplotlib.pyplot as plt"
   ]
  },
  {
   "cell_type": "code",
   "execution_count": 89,
   "id": "458c0c38",
   "metadata": {},
   "outputs": [
    {
     "data": {
      "text/html": [
       "<div>\n",
       "<style scoped>\n",
       "    .dataframe tbody tr th:only-of-type {\n",
       "        vertical-align: middle;\n",
       "    }\n",
       "\n",
       "    .dataframe tbody tr th {\n",
       "        vertical-align: top;\n",
       "    }\n",
       "\n",
       "    .dataframe thead th {\n",
       "        text-align: right;\n",
       "    }\n",
       "</style>\n",
       "<table border=\"1\" class=\"dataframe\">\n",
       "  <thead>\n",
       "    <tr style=\"text-align: right;\">\n",
       "      <th></th>\n",
       "      <th>Car Name</th>\n",
       "      <th>Year</th>\n",
       "      <th>Region</th>\n",
       "      <th>FuelType</th>\n",
       "      <th>Mileage</th>\n",
       "      <th>Price</th>\n",
       "    </tr>\n",
       "  </thead>\n",
       "  <tbody>\n",
       "    <tr>\n",
       "      <th>0</th>\n",
       "      <td>Ford Transit</td>\n",
       "      <td>2002</td>\n",
       "      <td>Goris</td>\n",
       "      <td>Diesel</td>\n",
       "      <td>215000</td>\n",
       "      <td>12000</td>\n",
       "    </tr>\n",
       "    <tr>\n",
       "      <th>1</th>\n",
       "      <td>Ford Focus</td>\n",
       "      <td>2017</td>\n",
       "      <td>Ijevan</td>\n",
       "      <td>Gasoline</td>\n",
       "      <td>72000</td>\n",
       "      <td>11500</td>\n",
       "    </tr>\n",
       "    <tr>\n",
       "      <th>2</th>\n",
       "      <td>Opel Vectra</td>\n",
       "      <td>1998</td>\n",
       "      <td>Armavir</td>\n",
       "      <td>Gasoline</td>\n",
       "      <td>466000</td>\n",
       "      <td>4000</td>\n",
       "    </tr>\n",
       "    <tr>\n",
       "      <th>3</th>\n",
       "      <td>Mazda 6</td>\n",
       "      <td>2020</td>\n",
       "      <td>Nor Nork</td>\n",
       "      <td>Gasoline</td>\n",
       "      <td>100000</td>\n",
       "      <td>22000</td>\n",
       "    </tr>\n",
       "    <tr>\n",
       "      <th>4</th>\n",
       "      <td>Opel Vectra</td>\n",
       "      <td>1998</td>\n",
       "      <td>Armavir</td>\n",
       "      <td>Gasoline</td>\n",
       "      <td>318000</td>\n",
       "      <td>3500</td>\n",
       "    </tr>\n",
       "  </tbody>\n",
       "</table>\n",
       "</div>"
      ],
      "text/plain": [
       "       Car Name  Year    Region  FuelType  Mileage  Price\n",
       "0  Ford Transit  2002     Goris    Diesel   215000  12000\n",
       "1    Ford Focus  2017    Ijevan  Gasoline    72000  11500\n",
       "2   Opel Vectra  1998   Armavir  Gasoline   466000   4000\n",
       "3       Mazda 6  2020  Nor Nork  Gasoline   100000  22000\n",
       "4   Opel Vectra  1998   Armavir  Gasoline   318000   3500"
      ]
     },
     "execution_count": 89,
     "metadata": {},
     "output_type": "execute_result"
    }
   ],
   "source": [
    "data=pd.read_csv(\"Armenian Market Car Prices.csv\")\n",
    "data.head()"
   ]
  },
  {
   "cell_type": "code",
   "execution_count": 90,
   "id": "c142fde0",
   "metadata": {
    "scrolled": true
   },
   "outputs": [
    {
     "data": {
      "text/html": [
       "<div>\n",
       "<style scoped>\n",
       "    .dataframe tbody tr th:only-of-type {\n",
       "        vertical-align: middle;\n",
       "    }\n",
       "\n",
       "    .dataframe tbody tr th {\n",
       "        vertical-align: top;\n",
       "    }\n",
       "\n",
       "    .dataframe thead th {\n",
       "        text-align: right;\n",
       "    }\n",
       "</style>\n",
       "<table border=\"1\" class=\"dataframe\">\n",
       "  <thead>\n",
       "    <tr style=\"text-align: right;\">\n",
       "      <th></th>\n",
       "      <th>Year</th>\n",
       "      <th>Mileage</th>\n",
       "      <th>Price</th>\n",
       "    </tr>\n",
       "  </thead>\n",
       "  <tbody>\n",
       "    <tr>\n",
       "      <th>count</th>\n",
       "      <td>7995.000000</td>\n",
       "      <td>7995.000000</td>\n",
       "      <td>7995.000000</td>\n",
       "    </tr>\n",
       "    <tr>\n",
       "      <th>mean</th>\n",
       "      <td>2010.342089</td>\n",
       "      <td>146401.523327</td>\n",
       "      <td>15555.002877</td>\n",
       "    </tr>\n",
       "    <tr>\n",
       "      <th>std</th>\n",
       "      <td>9.113848</td>\n",
       "      <td>108371.306576</td>\n",
       "      <td>17731.598604</td>\n",
       "    </tr>\n",
       "    <tr>\n",
       "      <th>min</th>\n",
       "      <td>1943.000000</td>\n",
       "      <td>10.000000</td>\n",
       "      <td>200.000000</td>\n",
       "    </tr>\n",
       "    <tr>\n",
       "      <th>25%</th>\n",
       "      <td>2004.000000</td>\n",
       "      <td>60000.000000</td>\n",
       "      <td>6000.000000</td>\n",
       "    </tr>\n",
       "    <tr>\n",
       "      <th>50%</th>\n",
       "      <td>2011.000000</td>\n",
       "      <td>130000.000000</td>\n",
       "      <td>11500.000000</td>\n",
       "    </tr>\n",
       "    <tr>\n",
       "      <th>75%</th>\n",
       "      <td>2018.000000</td>\n",
       "      <td>210000.000000</td>\n",
       "      <td>19000.000000</td>\n",
       "    </tr>\n",
       "    <tr>\n",
       "      <th>max</th>\n",
       "      <td>2024.000000</td>\n",
       "      <td>1000000.000000</td>\n",
       "      <td>565000.000000</td>\n",
       "    </tr>\n",
       "  </tbody>\n",
       "</table>\n",
       "</div>"
      ],
      "text/plain": [
       "              Year         Mileage          Price\n",
       "count  7995.000000     7995.000000    7995.000000\n",
       "mean   2010.342089   146401.523327   15555.002877\n",
       "std       9.113848   108371.306576   17731.598604\n",
       "min    1943.000000       10.000000     200.000000\n",
       "25%    2004.000000    60000.000000    6000.000000\n",
       "50%    2011.000000   130000.000000   11500.000000\n",
       "75%    2018.000000   210000.000000   19000.000000\n",
       "max    2024.000000  1000000.000000  565000.000000"
      ]
     },
     "execution_count": 90,
     "metadata": {},
     "output_type": "execute_result"
    }
   ],
   "source": [
    "data.describe()"
   ]
  },
  {
   "cell_type": "code",
   "execution_count": 91,
   "id": "2a5240da",
   "metadata": {},
   "outputs": [
    {
     "name": "stdout",
     "output_type": "stream",
     "text": [
      "<class 'pandas.core.frame.DataFrame'>\n",
      "RangeIndex: 7995 entries, 0 to 7994\n",
      "Data columns (total 6 columns):\n",
      " #   Column    Non-Null Count  Dtype \n",
      "---  ------    --------------  ----- \n",
      " 0   Car Name  7995 non-null   object\n",
      " 1   Year      7995 non-null   int64 \n",
      " 2   Region    7995 non-null   object\n",
      " 3   FuelType  7995 non-null   object\n",
      " 4   Mileage   7995 non-null   int64 \n",
      " 5   Price     7995 non-null   int64 \n",
      "dtypes: int64(3), object(3)\n",
      "memory usage: 374.9+ KB\n"
     ]
    }
   ],
   "source": [
    "data.info()"
   ]
  },
  {
   "cell_type": "code",
   "execution_count": 92,
   "id": "d9eeadc9",
   "metadata": {},
   "outputs": [
    {
     "data": {
      "text/plain": [
       "<matplotlib.collections.PathCollection at 0x1c01d3d0>"
      ]
     },
     "execution_count": 92,
     "metadata": {},
     "output_type": "execute_result"
    },
    {
     "data": {
      "image/png": "[encoded data removed]",
      "text/plain": [
       "<Figure size 432x288 with 1 Axes>"
      ]
     },
     "metadata": {
      "needs_background": "light"
     },
     "output_type": "display_data"
    }
   ],
   "source": [
    "d=data.copy()\n",
    "d[\"Age\"]=2024-d['Year']\n",
    "\n",
    "plt.scatter(d[\"Age\"],d[\"Price\"])"
   ]
  },
  {
   "cell_type": "code",
   "execution_count": 93,
   "id": "4d69207a",
   "metadata": {},
   "outputs": [
    {
     "data": {
      "image/png": "[encoded data removed]",
      "text/plain": [
       "<Figure size 432x288 with 1 Axes>"
      ]
     },
     "metadata": {
      "needs_background": "light"
     },
     "output_type": "display_data"
    }
   ],
   "source": [
    "plt.hist(data[\"Price\"])\n",
    "plt.show()"
   ]
  },
  {
   "cell_type": "code",
   "execution_count": 94,
   "id": "a86151eb",
   "metadata": {},
   "outputs": [
    {
     "name": "stderr",
     "output_type": "stream",
     "text": [
      "C:\\Users\\HP\\anaconda3\\lib\\site-packages\\seaborn\\_decorators.py:36: FutureWarning: Pass the following variable as a keyword arg: x. From version 0.12, the only valid positional argument will be `data`, and passing other arguments without an explicit keyword will result in an error or misinterpretation.\n",
      "  warnings.warn(\n"
     ]
    },
    {
     "data": {
      "text/plain": [
       "<AxesSubplot:xlabel='Price'>"
      ]
     },
     "execution_count": 94,
     "metadata": {},
     "output_type": "execute_result"
    },
    {
     "data": {
      "image/png": "[encoded data removed]",
      "text/plain": [
       "<Figure size 432x288 with 1 Axes>"
      ]
     },
     "metadata": {
      "needs_background": "light"
     },
     "output_type": "display_data"
    }
   ],
   "source": [
    "sns.boxplot(data[\"Price\"])"
   ]
  },
  {
   "cell_type": "code",
   "execution_count": 95,
   "id": "9ce6b851",
   "metadata": {},
   "outputs": [
    {
     "data": {
      "text/plain": [
       "<Figure size 1296x864 with 0 Axes>"
      ]
     },
     "metadata": {},
     "output_type": "display_data"
    },
    {
     "data": {
      "image/png": "[encoded data removed]",
      "text/plain": [
       "<Figure size 540x540 with 12 Axes>"
      ]
     },
     "metadata": {
      "needs_background": "light"
     },
     "output_type": "display_data"
    }
   ],
   "source": [
    "plt.figure(figsize=(18,12))\n",
    "sns.pairplot(data)\n",
    "plt.show()"
   ]
  },
  {
   "cell_type": "code",
   "execution_count": 96,
   "id": "31d182ae",
   "metadata": {},
   "outputs": [
    {
     "data": {
      "text/plain": [
       "<AxesSubplot:>"
      ]
     },
     "execution_count": 96,
     "metadata": {},
     "output_type": "execute_result"
    },
    {
     "data": {
      "image/png": "[encoded data removed]",
      "text/plain": [
       "<Figure size 432x288 with 2 Axes>"
      ]
     },
     "metadata": {
      "needs_background": "light"
     },
     "output_type": "display_data"
    }
   ],
   "source": [
    "sns.heatmap(data.corr(),annot=True)"
   ]
  },
  {
   "cell_type": "code",
   "execution_count": 97,
   "id": "0adecda2",
   "metadata": {},
   "outputs": [
    {
     "data": {
      "text/html": [
       "<div>\n",
       "<style scoped>\n",
       "    .dataframe tbody tr th:only-of-type {\n",
       "        vertical-align: middle;\n",
       "    }\n",
       "\n",
       "    .dataframe tbody tr th {\n",
       "        vertical-align: top;\n",
       "    }\n",
       "\n",
       "    .dataframe thead th {\n",
       "        text-align: right;\n",
       "    }\n",
       "</style>\n",
       "<table border=\"1\" class=\"dataframe\">\n",
       "  <thead>\n",
       "    <tr style=\"text-align: right;\">\n",
       "      <th></th>\n",
       "      <th>Car Name</th>\n",
       "      <th>Year</th>\n",
       "      <th>Region</th>\n",
       "      <th>FuelType</th>\n",
       "      <th>Mileage</th>\n",
       "      <th>Price</th>\n",
       "    </tr>\n",
       "  </thead>\n",
       "  <tbody>\n",
       "    <tr>\n",
       "      <th>0</th>\n",
       "      <td>188</td>\n",
       "      <td>2002</td>\n",
       "      <td>71</td>\n",
       "      <td>0</td>\n",
       "      <td>215000</td>\n",
       "      <td>12000</td>\n",
       "    </tr>\n",
       "    <tr>\n",
       "      <th>1</th>\n",
       "      <td>174</td>\n",
       "      <td>2017</td>\n",
       "      <td>82</td>\n",
       "      <td>2</td>\n",
       "      <td>72000</td>\n",
       "      <td>11500</td>\n",
       "    </tr>\n",
       "    <tr>\n",
       "      <th>2</th>\n",
       "      <td>568</td>\n",
       "      <td>1998</td>\n",
       "      <td>24</td>\n",
       "      <td>2</td>\n",
       "      <td>466000</td>\n",
       "      <td>4000</td>\n",
       "    </tr>\n",
       "    <tr>\n",
       "      <th>3</th>\n",
       "      <td>376</td>\n",
       "      <td>2020</td>\n",
       "      <td>133</td>\n",
       "      <td>2</td>\n",
       "      <td>100000</td>\n",
       "      <td>22000</td>\n",
       "    </tr>\n",
       "    <tr>\n",
       "      <th>4</th>\n",
       "      <td>568</td>\n",
       "      <td>1998</td>\n",
       "      <td>24</td>\n",
       "      <td>2</td>\n",
       "      <td>318000</td>\n",
       "      <td>3500</td>\n",
       "    </tr>\n",
       "  </tbody>\n",
       "</table>\n",
       "</div>"
      ],
      "text/plain": [
       "   Car Name  Year  Region  FuelType  Mileage  Price\n",
       "0       188  2002      71         0   215000  12000\n",
       "1       174  2017      82         2    72000  11500\n",
       "2       568  1998      24         2   466000   4000\n",
       "3       376  2020     133         2   100000  22000\n",
       "4       568  1998      24         2   318000   3500"
      ]
     },
     "execution_count": 97,
     "metadata": {},
     "output_type": "execute_result"
    }
   ],
   "source": [
    "le=LabelEncoder()\n",
    "data[\"Car Name\"]=le.fit_transform(data[\"Car Name\"])\n",
    "data[\"Region\"]=le.fit_transform(data[\"Region\"])\n",
    "data[\"FuelType\"]=le.fit_transform(data[\"FuelType\"])\n",
    "data.head()"
   ]
  },
  {
   "cell_type": "code",
   "execution_count": 98,
   "id": "0fb4159d",
   "metadata": {},
   "outputs": [
    {
     "data": {
      "text/html": [
       "<div>\n",
       "<style scoped>\n",
       "    .dataframe tbody tr th:only-of-type {\n",
       "        vertical-align: middle;\n",
       "    }\n",
       "\n",
       "    .dataframe tbody tr th {\n",
       "        vertical-align: top;\n",
       "    }\n",
       "\n",
       "    .dataframe thead th {\n",
       "        text-align: right;\n",
       "    }\n",
       "</style>\n",
       "<table border=\"1\" class=\"dataframe\">\n",
       "  <thead>\n",
       "    <tr style=\"text-align: right;\">\n",
       "      <th></th>\n",
       "      <th>Car Name</th>\n",
       "      <th>Year</th>\n",
       "      <th>Region</th>\n",
       "      <th>FuelType</th>\n",
       "      <th>Mileage</th>\n",
       "      <th>Price</th>\n",
       "    </tr>\n",
       "  </thead>\n",
       "  <tbody>\n",
       "    <tr>\n",
       "      <th>0</th>\n",
       "      <td>188</td>\n",
       "      <td>-0.915377</td>\n",
       "      <td>71</td>\n",
       "      <td>0</td>\n",
       "      <td>0.633034</td>\n",
       "      <td>-0.200502</td>\n",
       "    </tr>\n",
       "    <tr>\n",
       "      <th>1</th>\n",
       "      <td>174</td>\n",
       "      <td>0.730573</td>\n",
       "      <td>82</td>\n",
       "      <td>2</td>\n",
       "      <td>-0.686586</td>\n",
       "      <td>-0.228702</td>\n",
       "    </tr>\n",
       "    <tr>\n",
       "      <th>2</th>\n",
       "      <td>568</td>\n",
       "      <td>-1.354297</td>\n",
       "      <td>24</td>\n",
       "      <td>2</td>\n",
       "      <td>2.949291</td>\n",
       "      <td>-0.651702</td>\n",
       "    </tr>\n",
       "    <tr>\n",
       "      <th>3</th>\n",
       "      <td>376</td>\n",
       "      <td>1.059763</td>\n",
       "      <td>133</td>\n",
       "      <td>2</td>\n",
       "      <td>-0.428198</td>\n",
       "      <td>0.363498</td>\n",
       "    </tr>\n",
       "    <tr>\n",
       "      <th>4</th>\n",
       "      <td>568</td>\n",
       "      <td>-1.354297</td>\n",
       "      <td>24</td>\n",
       "      <td>2</td>\n",
       "      <td>1.583530</td>\n",
       "      <td>-0.679902</td>\n",
       "    </tr>\n",
       "    <tr>\n",
       "      <th>...</th>\n",
       "      <td>...</td>\n",
       "      <td>...</td>\n",
       "      <td>...</td>\n",
       "      <td>...</td>\n",
       "      <td>...</td>\n",
       "      <td>...</td>\n",
       "    </tr>\n",
       "    <tr>\n",
       "      <th>7990</th>\n",
       "      <td>720</td>\n",
       "      <td>0.291653</td>\n",
       "      <td>24</td>\n",
       "      <td>2</td>\n",
       "      <td>0.033207</td>\n",
       "      <td>1.096698</td>\n",
       "    </tr>\n",
       "    <tr>\n",
       "      <th>7991</th>\n",
       "      <td>653</td>\n",
       "      <td>0.840303</td>\n",
       "      <td>133</td>\n",
       "      <td>2</td>\n",
       "      <td>-0.483567</td>\n",
       "      <td>-0.561462</td>\n",
       "    </tr>\n",
       "    <tr>\n",
       "      <th>7992</th>\n",
       "      <td>555</td>\n",
       "      <td>-1.025107</td>\n",
       "      <td>5</td>\n",
       "      <td>2</td>\n",
       "      <td>0.042435</td>\n",
       "      <td>-0.324582</td>\n",
       "    </tr>\n",
       "    <tr>\n",
       "      <th>7993</th>\n",
       "      <td>662</td>\n",
       "      <td>-0.147267</td>\n",
       "      <td>161</td>\n",
       "      <td>2</td>\n",
       "      <td>1.417424</td>\n",
       "      <td>-0.623502</td>\n",
       "    </tr>\n",
       "    <tr>\n",
       "      <th>7994</th>\n",
       "      <td>407</td>\n",
       "      <td>-1.464027</td>\n",
       "      <td>128</td>\n",
       "      <td>2</td>\n",
       "      <td>0.494613</td>\n",
       "      <td>-0.696822</td>\n",
       "    </tr>\n",
       "  </tbody>\n",
       "</table>\n",
       "<p>7995 rows × 6 columns</p>\n",
       "</div>"
      ],
      "text/plain": [
       "      Car Name      Year  Region  FuelType   Mileage     Price\n",
       "0          188 -0.915377      71         0  0.633034 -0.200502\n",
       "1          174  0.730573      82         2 -0.686586 -0.228702\n",
       "2          568 -1.354297      24         2  2.949291 -0.651702\n",
       "3          376  1.059763     133         2 -0.428198  0.363498\n",
       "4          568 -1.354297      24         2  1.583530 -0.679902\n",
       "...        ...       ...     ...       ...       ...       ...\n",
       "7990       720  0.291653      24         2  0.033207  1.096698\n",
       "7991       653  0.840303     133         2 -0.483567 -0.561462\n",
       "7992       555 -1.025107       5         2  0.042435 -0.324582\n",
       "7993       662 -0.147267     161         2  1.417424 -0.623502\n",
       "7994       407 -1.464027     128         2  0.494613 -0.696822\n",
       "\n",
       "[7995 rows x 6 columns]"
      ]
     },
     "execution_count": 98,
     "metadata": {},
     "output_type": "execute_result"
    }
   ],
   "source": [
    "df=data.copy()\n",
    "ss=StandardScaler()\n",
    "df[\"Year\"]=ss.fit_transform(df[[\"Year\"]])\n",
    "df[\"Mileage\"]=ss.fit_transform(df[[\"Mileage\"]])\n",
    "df[\"Price\"]=ss.fit_transform(df[[\"Price\"]])\n",
    "df"
   ]
  },
  {
   "cell_type": "code",
   "execution_count": 99,
   "id": "4501a4e4",
   "metadata": {},
   "outputs": [],
   "source": [
    "X=df.iloc[:,:-1]\n",
    "y=df.iloc[:,-1]"
   ]
  },
  {
   "cell_type": "code",
   "execution_count": 100,
   "id": "56dabb12",
   "metadata": {},
   "outputs": [],
   "source": [
    "X_train,X_test,y_train,y_test=train_test_split(X,y,test_size=0.3)"
   ]
  },
  {
   "cell_type": "code",
   "execution_count": 101,
   "id": "d7a121f8",
   "metadata": {},
   "outputs": [
    {
     "name": "stdout",
     "output_type": "stream",
     "text": [
      "MSE: 0.9395201452001174\n",
      "MAE: 0.5446653787117627\n"
     ]
    }
   ],
   "source": [
    "lr=LinearRegression()\n",
    "lr.fit(X_train,y_train)\n",
    "lr_pred=lr.predict(X_test)\n",
    "lr_mse=mean_squared_error(y_test,lr_pred)\n",
    "lr_mae=mean_absolute_error(y_test,lr_pred)\n",
    "print(\"MSE:\",lr_mse)\n",
    "print(\"MAE:\",lr_mae)"
   ]
  },
  {
   "cell_type": "code",
   "execution_count": 102,
   "id": "bb4903e6",
   "metadata": {},
   "outputs": [
    {
     "name": "stdout",
     "output_type": "stream",
     "text": [
      "MSE: 1.9097753552850782\n",
      "MAE: 0.8008268459953649\n"
     ]
    }
   ],
   "source": [
    "dr=DecisionTreeRegressor()\n",
    "dr.fit(X_train,y_train)\n",
    "dr_pred=dr.predict(X_test)\n",
    "dr_mse=mean_squared_error(y_test,dr_pred)\n",
    "dr_mae=mean_absolute_error(y_test,dr_pred)\n",
    "print(\"MSE:\",dr_mse)\n",
    "print(\"MAE:\",dr_mae)"
   ]
  },
  {
   "cell_type": "code",
   "execution_count": 103,
   "id": "784970cc",
   "metadata": {},
   "outputs": [
    {
     "name": "stdout",
     "output_type": "stream",
     "text": [
      "MSE: 0.9463980245561591\n",
      "MAE: 0.5434231879750869\n"
     ]
    }
   ],
   "source": [
    "rf=RandomForestRegressor(min_samples_split=8,min_samples_leaf=8)\n",
    "rf.fit(X_train,y_train)\n",
    "rf_pred=rf.predict(X_test)\n",
    "rf_mse=mean_squared_error(y_test,rf_pred)\n",
    "rf_mae=mean_absolute_error(y_test,rf_pred)\n",
    "print(\"MSE:\",rf_mse)\n",
    "print(\"MAE:\",rf_mae)"
   ]
  },
  {
   "cell_type": "code",
   "execution_count": null,
   "id": "46620db7",
   "metadata": {},
   "outputs": [],
   "source": [
    "svc=SVR()\n",
    "svc.fit(X_train,y_train)\n",
    "svc_pred=svc.predict(X_test)\n",
    "svc_mse=mean_squared_error(y_test,svc_pred)\n",
    "svc_mae=mean_absolute_error(y_test,svc_pred)\n",
    "print(\"MSE:\",svc_mse)\n",
    "print(\"MAE:\",svc_mae)"
   ]
  },
  {
   "cell_type": "code",
   "execution_count": null,
   "id": "490d64fa",
   "metadata": {},
   "outputs": [],
   "source": []
  }
 ],
 "metadata": {
  "kernelspec": {
   "display_name": "Python 3",
   "language": "python",
   "name": "python3"
  },
  "language_info": {
   "codemirror_mode": {
    "name": "ipython",
    "version": 3
   },
   "file_extension": ".py",
   "mimetype": "text/x-python",
   "name": "python",
   "nbconvert_exporter": "python",
   "pygments_lexer": "ipython3",
   "version": "3.8.8"
  }
 },
 "nbformat": 4,
 "nbformat_minor": 5
}
